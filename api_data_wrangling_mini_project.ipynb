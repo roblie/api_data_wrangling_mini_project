{
 "cells": [
  {
   "cell_type": "markdown",
   "metadata": {},
   "source": [
    "This exercise will require you to pull some data from the Qunadl API. Qaundl is currently the most widely used aggregator of financial market data."
   ]
  },
  {
   "cell_type": "markdown",
   "metadata": {},
   "source": [
    "As a first step, you will need to register a free account on the http://www.quandl.com website."
   ]
  },
  {
   "cell_type": "markdown",
   "metadata": {},
   "source": [
    "After you register, you will be provided with a unique API key, that you should store:"
   ]
  },
  {
   "cell_type": "code",
   "execution_count": 734,
   "metadata": {},
   "outputs": [],
   "source": [
    "# Store the API key as a string - according to PEP8, constants are always named in all upper case\n",
    "API_KEY = ''"
   ]
  },
  {
   "cell_type": "markdown",
   "metadata": {},
   "source": [
    "Qaundl has a large number of data sources, but, unfortunately, most of them require a Premium subscription. Still, there are also a good number of free datasets."
   ]
  },
  {
   "cell_type": "markdown",
   "metadata": {},
   "source": [
    "For this mini project, we will focus on equities data from the Frankfurt Stock Exhange (FSE), which is available for free. We'll try and analyze the stock prices of a company called Carl Zeiss Meditec, which manufactures tools for eye examinations, as well as medical lasers for laser eye surgery: https://www.zeiss.com/meditec/int/home.html. The company is listed under the stock ticker AFX_X."
   ]
  },
  {
   "cell_type": "markdown",
   "metadata": {},
   "source": [
    "You can find the detailed Quandl API instructions here: https://docs.quandl.com/docs/time-series"
   ]
  },
  {
   "cell_type": "markdown",
   "metadata": {},
   "source": [
    "While there is a dedicated Python package for connecting to the Quandl API, we would prefer that you use the *requests* package, which can be easily downloaded using *pip* or *conda*. You can find the documentation for the package here: http://docs.python-requests.org/en/master/ "
   ]
  },
  {
   "cell_type": "markdown",
   "metadata": {},
   "source": [
    "Finally, apart from the *requests* package, you are encouraged to not use any third party Python packages, such as *pandas*, and instead focus on what's available in the Python Standard Library (the *collections* module might come in handy: https://pymotw.com/3/collections/ ).\n",
    "Also, since you won't have access to DataFrames, you are encouraged to us Python's native data structures - preferably dictionaries, though some questions can also be answered using lists.\n",
    "You can read more on these data structures here: https://docs.python.org/3/tutorial/datastructures.html"
   ]
  },
  {
   "cell_type": "markdown",
   "metadata": {},
   "source": [
    "Keep in mind that the JSON responses you will be getting from the API map almost one-to-one to Python's dictionaries. Unfortunately, they can be very nested, so make sure you read up on indexing dictionaries in the documentation provided above."
   ]
  },
  {
   "cell_type": "code",
   "execution_count": 735,
   "metadata": {},
   "outputs": [],
   "source": [
    "# First, import the relevant modules\n",
    "import requests\n",
    "import json"
   ]
  },
  {
   "cell_type": "code",
   "execution_count": 736,
   "metadata": {},
   "outputs": [
    {
     "data": {
      "text/plain": [
       "{'dataset': {'id': 10095370,\n",
       "  'dataset_code': 'AFX_X',\n",
       "  'database_code': 'FSE',\n",
       "  'name': 'Carl Zeiss Meditec (AFX_X)',\n",
       "  'description': 'Stock Prices for Carl Zeiss Meditec (AFX) from the Frankfurt Stock Exchange.<br><br>Trading System: Xetra<br><br>ISIN: DE0005313704',\n",
       "  'refreshed_at': '2019-06-25T22:37:05.976Z',\n",
       "  'newest_available_date': '2019-06-25',\n",
       "  'oldest_available_date': '2000-06-07',\n",
       "  'column_names': ['Date',\n",
       "   'Open',\n",
       "   'High',\n",
       "   'Low',\n",
       "   'Close',\n",
       "   'Change',\n",
       "   'Traded Volume',\n",
       "   'Turnover',\n",
       "   'Last Price of the Day',\n",
       "   'Daily Traded Units',\n",
       "   'Daily Turnover'],\n",
       "  'frequency': 'daily',\n",
       "  'type': 'Time Series',\n",
       "  'premium': False,\n",
       "  'limit': None,\n",
       "  'transform': None,\n",
       "  'column_index': None,\n",
       "  'start_date': '2019-06-25',\n",
       "  'end_date': '2019-06-25',\n",
       "  'data': [['2019-06-25',\n",
       "    None,\n",
       "    87.25,\n",
       "    84.8,\n",
       "    86.25,\n",
       "    None,\n",
       "    156907.0,\n",
       "    13487083.0,\n",
       "    None,\n",
       "    None,\n",
       "    None]],\n",
       "  'collapse': None,\n",
       "  'order': None,\n",
       "  'database_id': 6129}}"
      ]
     },
     "execution_count": 736,
     "metadata": {},
     "output_type": "execute_result"
    }
   ],
   "source": [
    "# Now, call the Quandl API and pull out a small sample of the data (only one day) to get a glimpse\n",
    "# into the JSON structure that will be returned\n",
    "r = requests.get('https://www.quandl.com/api/v3/datasets/FSE/AFX_X?start_date=2019-06-25&end_date=2019-06-25&api_key=' + API_KEY)\n",
    "r.json()"
   ]
  },
  {
   "cell_type": "code",
   "execution_count": 737,
   "metadata": {},
   "outputs": [],
   "source": [
    "# Inspect the JSON structure of the object you created, and take note of how nested it is,\n",
    "# as well as the overall structure\n"
   ]
  },
  {
   "cell_type": "markdown",
   "metadata": {},
   "source": [
    "These are your tasks for this mini project:\n",
    "\n",
    "1. Collect data from the Franfurt Stock Exchange, for the ticker AFX_X, for the whole year 2017 (keep in mind that the date format is YYYY-MM-DD).\n",
    "2. Convert the returned JSON object into a Python dictionary.\n",
    "3. Calculate what the highest and lowest opening prices were for the stock in this period.\n",
    "4. What was the largest change in any one day (based on High and Low price)?\n",
    "5. What was the largest change between any two days (based on Closing Price)?\n",
    "6. What was the average daily trading volume during this year?\n",
    "7. (Optional) What was the median trading volume during this year. (Note: you may need to implement your own function for calculating the median.)"
   ]
  },
  {
   "cell_type": "markdown",
   "metadata": {
    "collapsed": true
   },
   "source": [
    "# 1. Collect data from the Franfurt Stock Exchange, for the ticker AFX_X, for the whole year 2017 (keep in mind that the date format is YYYY-MM-DD)."
   ]
  },
  {
   "cell_type": "code",
   "execution_count": 738,
   "metadata": {},
   "outputs": [],
   "source": [
    "r = requests.get('https://www.quandl.com/api/v3/datasets/FSE/AFX_X?start_date=2017-01-01&end_date=2017-12-31&api_key=' + API_KEY)"
   ]
  },
  {
   "cell_type": "markdown",
   "metadata": {},
   "source": [
    "# 2. Convert the returned JSON object into a Python dictionary."
   ]
  },
  {
   "cell_type": "code",
   "execution_count": 739,
   "metadata": {},
   "outputs": [
    {
     "data": {
      "text/plain": [
       "dict"
      ]
     },
     "execution_count": 739,
     "metadata": {},
     "output_type": "execute_result"
    }
   ],
   "source": [
    "json_data = r.json()\n",
    "type(json_data)"
   ]
  },
  {
   "cell_type": "markdown",
   "metadata": {},
   "source": [
    "# 3. Calculate what the highest and lowest opening prices were for the stock in this period."
   ]
  },
  {
   "cell_type": "code",
   "execution_count": 740,
   "metadata": {},
   "outputs": [
    {
     "data": {
      "text/plain": [
       "dict_keys(['dataset'])"
      ]
     },
     "execution_count": 740,
     "metadata": {},
     "output_type": "execute_result"
    }
   ],
   "source": [
    "json_data.keys()"
   ]
  },
  {
   "cell_type": "code",
   "execution_count": 741,
   "metadata": {},
   "outputs": [
    {
     "data": {
      "text/plain": [
       "dict_keys(['id', 'dataset_code', 'database_code', 'name', 'description', 'refreshed_at', 'newest_available_date', 'oldest_available_date', 'column_names', 'frequency', 'type', 'premium', 'limit', 'transform', 'column_index', 'start_date', 'end_date', 'data', 'collapse', 'order', 'database_id'])"
      ]
     },
     "execution_count": 741,
     "metadata": {},
     "output_type": "execute_result"
    }
   ],
   "source": [
    "json_data['dataset'].keys()"
   ]
  },
  {
   "cell_type": "code",
   "execution_count": 742,
   "metadata": {},
   "outputs": [
    {
     "data": {
      "text/plain": [
       "['Date',\n",
       " 'Open',\n",
       " 'High',\n",
       " 'Low',\n",
       " 'Close',\n",
       " 'Change',\n",
       " 'Traded Volume',\n",
       " 'Turnover',\n",
       " 'Last Price of the Day',\n",
       " 'Daily Traded Units',\n",
       " 'Daily Turnover']"
      ]
     },
     "execution_count": 742,
     "metadata": {},
     "output_type": "execute_result"
    }
   ],
   "source": [
    "json_data['dataset']['column_names']"
   ]
  },
  {
   "cell_type": "code",
   "execution_count": 743,
   "metadata": {},
   "outputs": [],
   "source": [
    "json_list = json_data['dataset']['data']"
   ]
  },
  {
   "cell_type": "code",
   "execution_count": 744,
   "metadata": {},
   "outputs": [],
   "source": [
    "json_tuple_list = list(zip(*json_list))"
   ]
  },
  {
   "cell_type": "code",
   "execution_count": 745,
   "metadata": {},
   "outputs": [],
   "source": [
    "json_open_prices = json_tuple_list[2]"
   ]
  },
  {
   "cell_type": "code",
   "execution_count": 746,
   "metadata": {},
   "outputs": [],
   "source": [
    "max_value = max(json_open_prices)"
   ]
  },
  {
   "cell_type": "code",
   "execution_count": 747,
   "metadata": {},
   "outputs": [],
   "source": [
    "min_value = min(json_open_prices)"
   ]
  },
  {
   "cell_type": "code",
   "execution_count": 748,
   "metadata": {},
   "outputs": [
    {
     "name": "stdout",
     "output_type": "stream",
     "text": [
      "lowest opening price: 34.12\n",
      "highest opening price: 53.54\n"
     ]
    }
   ],
   "source": [
    "print('lowest opening price:',min_value)\n",
    "print('highest opening price:',max_value)"
   ]
  },
  {
   "cell_type": "markdown",
   "metadata": {},
   "source": [
    "# 4. What was the largest change in any one day (based on High and Low price)?"
   ]
  },
  {
   "cell_type": "code",
   "execution_count": 749,
   "metadata": {},
   "outputs": [
    {
     "data": {
      "text/plain": [
       "(51.94,\n",
       " 51.82,\n",
       " 51.89,\n",
       " 51.5,\n",
       " 51.52,\n",
       " 52.04,\n",
       " 52.73,\n",
       " 52.75,\n",
       " 52.7,\n",
       " 53.54,\n",
       " 53.35,\n",
       " 53.1,\n",
       " 52.45,\n",
       " 52.83,\n",
       " 51.47,\n",
       " 51.11,\n",
       " 51.38,\n",
       " 51.23,\n",
       " 50.49,\n",
       " 49.84,\n",
       " 49.64,\n",
       " 49.89,\n",
       " 49.73,\n",
       " 49.41,\n",
       " 49.46,\n",
       " 49.61,\n",
       " 48.59,\n",
       " 47.38,\n",
       " 47.15,\n",
       " 47.23,\n",
       " 48.01,\n",
       " 48.9,\n",
       " 48.61,\n",
       " 48.89,\n",
       " 48.06,\n",
       " 47.72,\n",
       " 46.33,\n",
       " 46.09,\n",
       " 46.04,\n",
       " 46.06,\n",
       " 46.55,\n",
       " 46.65,\n",
       " 46.42,\n",
       " 45.41,\n",
       " 45.06,\n",
       " 45.27,\n",
       " 45.34,\n",
       " 45.34,\n",
       " 45.85,\n",
       " 46.2,\n",
       " 46.06,\n",
       " 45.75,\n",
       " 45.7,\n",
       " 45.58,\n",
       " 45.97,\n",
       " 46.04,\n",
       " 46.2,\n",
       " 46.19,\n",
       " 46.09,\n",
       " 46.17,\n",
       " 44.98,\n",
       " 44.17,\n",
       " 43.56,\n",
       " 42.49,\n",
       " 42.57,\n",
       " 42.3,\n",
       " 42.38,\n",
       " 42.29,\n",
       " 42.54,\n",
       " 42.65,\n",
       " 42.63,\n",
       " 42.81,\n",
       " 42.8,\n",
       " 42.69,\n",
       " 43.34,\n",
       " 42.89,\n",
       " 42.75,\n",
       " 43.02,\n",
       " 42.71,\n",
       " 43.19,\n",
       " 42.75,\n",
       " 43.06,\n",
       " 42.08,\n",
       " 42.2,\n",
       " 41.98,\n",
       " 42.25,\n",
       " 42.64,\n",
       " 43.05,\n",
       " 43.17,\n",
       " 42.96,\n",
       " 42.76,\n",
       " 42.6,\n",
       " 43.01,\n",
       " 42.62,\n",
       " 42.53,\n",
       " 42.69,\n",
       " 41.94,\n",
       " 41.99,\n",
       " 43.5,\n",
       " 45.09,\n",
       " 46.34,\n",
       " 45.13,\n",
       " 45.54,\n",
       " 45.77,\n",
       " 45.54,\n",
       " 45.75,\n",
       " 45.29,\n",
       " 45.45,\n",
       " 45.33,\n",
       " 45.04,\n",
       " 45.31,\n",
       " 45.88,\n",
       " 45.96,\n",
       " 45.72,\n",
       " 45.55,\n",
       " 46.23,\n",
       " 45.56,\n",
       " 45.18,\n",
       " 45.05,\n",
       " 44.94,\n",
       " 45.18,\n",
       " 44.79,\n",
       " 45.5,\n",
       " 45.36,\n",
       " 45.83,\n",
       " 45.83,\n",
       " 45.74,\n",
       " 45.81,\n",
       " 46.68,\n",
       " 47.33,\n",
       " 47.63,\n",
       " 47.4,\n",
       " 47.4,\n",
       " 47.48,\n",
       " 47.43,\n",
       " 46.9,\n",
       " 46.8,\n",
       " 46.34,\n",
       " 46.86,\n",
       " 46.51,\n",
       " 47.43,\n",
       " 47.44,\n",
       " 47.8,\n",
       " 47.43,\n",
       " 47.45,\n",
       " 46.99,\n",
       " 46.52,\n",
       " 46.26,\n",
       " 46.02,\n",
       " 45.61,\n",
       " 45.36,\n",
       " 44.87,\n",
       " 44.67,\n",
       " 44.13,\n",
       " 44.22,\n",
       " 44.12,\n",
       " 44.3,\n",
       " 45.34,\n",
       " 45.36,\n",
       " 45.78,\n",
       " 45.18,\n",
       " 46.06,\n",
       " 43.6,\n",
       " 43.55,\n",
       " 43.0,\n",
       " 42.91,\n",
       " 42.5,\n",
       " 42.29,\n",
       " 42.23,\n",
       " 42.245,\n",
       " 42.25,\n",
       " 42.24,\n",
       " 41.94,\n",
       " 42.18,\n",
       " 42.02,\n",
       " 42.14,\n",
       " 42.64,\n",
       " 42.61,\n",
       " 42.4,\n",
       " 42.48,\n",
       " 42.48,\n",
       " 42.48,\n",
       " 42.45,\n",
       " 42.03,\n",
       " 41.68,\n",
       " 41.42,\n",
       " 41.25,\n",
       " 41.34,\n",
       " 40.88,\n",
       " 40.15,\n",
       " 40.07,\n",
       " 40.14,\n",
       " 40.01,\n",
       " 39.35,\n",
       " 39.1,\n",
       " 39.02,\n",
       " 39.25,\n",
       " 39.02,\n",
       " 41.83,\n",
       " 42.17,\n",
       " 41.59,\n",
       " 41.57,\n",
       " 41.5,\n",
       " 41.5,\n",
       " 41.46,\n",
       " 41.53,\n",
       " 41.61,\n",
       " 41.71,\n",
       " 41.8,\n",
       " 41.4,\n",
       " 41.22,\n",
       " 41.39,\n",
       " 41.57,\n",
       " 40.95,\n",
       " 40.64,\n",
       " 40.14,\n",
       " 39.98,\n",
       " 39.75,\n",
       " 39.57,\n",
       " 39.25,\n",
       " 39.03,\n",
       " 39.2,\n",
       " 38.93,\n",
       " 38.86,\n",
       " 39.36,\n",
       " 37.5,\n",
       " 36.25,\n",
       " 36.14,\n",
       " 36.05,\n",
       " 36.15,\n",
       " 36.2,\n",
       " 36.2,\n",
       " 36.0,\n",
       " 35.24,\n",
       " 35.59,\n",
       " 35.43,\n",
       " 35.58,\n",
       " 34.86,\n",
       " 34.35,\n",
       " 34.12,\n",
       " 34.59,\n",
       " 35.04,\n",
       " 35.51,\n",
       " 35.19,\n",
       " 35.24,\n",
       " 34.98,\n",
       " 35.38,\n",
       " 36.0,\n",
       " 34.98,\n",
       " 35.35,\n",
       " 35.21,\n",
       " 35.2,\n",
       " 35.51,\n",
       " 35.93,\n",
       " 35.94)"
      ]
     },
     "execution_count": 749,
     "metadata": {},
     "output_type": "execute_result"
    }
   ],
   "source": [
    "list(zip(*json_list))[2]"
   ]
  },
  {
   "cell_type": "code",
   "execution_count": 750,
   "metadata": {},
   "outputs": [],
   "source": [
    "json_high = list(zip(*json_list))[2]"
   ]
  },
  {
   "cell_type": "code",
   "execution_count": 751,
   "metadata": {},
   "outputs": [
    {
     "data": {
      "text/plain": [
       "(51.45,\n",
       " 51.43,\n",
       " 50.76,\n",
       " 50.92,\n",
       " 50.9,\n",
       " 51.2,\n",
       " 51.07,\n",
       " 51.61,\n",
       " 51.64,\n",
       " 52.15,\n",
       " 52.48,\n",
       " 51.82,\n",
       " 51.26,\n",
       " 51.28,\n",
       " 50.81,\n",
       " 50.39,\n",
       " 50.4,\n",
       " 49.5,\n",
       " 49.17,\n",
       " 48.28,\n",
       " 48.7,\n",
       " 49.03,\n",
       " 48.96,\n",
       " 48.87,\n",
       " 48.45,\n",
       " 48.39,\n",
       " 46.78,\n",
       " 46.54,\n",
       " 46.8,\n",
       " 46.55,\n",
       " 46.75,\n",
       " 47.84,\n",
       " 47.76,\n",
       " 47.16,\n",
       " 47.09,\n",
       " 46.42,\n",
       " 45.84,\n",
       " 45.76,\n",
       " 44.83,\n",
       " 45.18,\n",
       " 45.97,\n",
       " 45.61,\n",
       " 45.46,\n",
       " 44.91,\n",
       " 44.7,\n",
       " 44.75,\n",
       " 44.89,\n",
       " 44.76,\n",
       " 44.79,\n",
       " 45.61,\n",
       " 45.37,\n",
       " 45.3,\n",
       " 45.37,\n",
       " 45.17,\n",
       " 45.25,\n",
       " 45.57,\n",
       " 45.6,\n",
       " 45.69,\n",
       " 45.63,\n",
       " 45.22,\n",
       " 44.18,\n",
       " 43.3,\n",
       " 42.0,\n",
       " 41.78,\n",
       " 42.11,\n",
       " 41.96,\n",
       " 41.48,\n",
       " 41.39,\n",
       " 41.99,\n",
       " 42.13,\n",
       " 42.23,\n",
       " 42.25,\n",
       " 42.35,\n",
       " 42.22,\n",
       " 42.62,\n",
       " 42.56,\n",
       " 42.56,\n",
       " 42.67,\n",
       " 42.34,\n",
       " 42.55,\n",
       " 41.95,\n",
       " 42.07,\n",
       " 41.12,\n",
       " 41.49,\n",
       " 41.33,\n",
       " 41.86,\n",
       " 42.05,\n",
       " 42.63,\n",
       " 42.6,\n",
       " 42.4,\n",
       " 42.2,\n",
       " 42.01,\n",
       " 41.76,\n",
       " 41.98,\n",
       " 42.2,\n",
       " 42.01,\n",
       " 40.96,\n",
       " 41.14,\n",
       " 41.64,\n",
       " 44.15,\n",
       " 44.02,\n",
       " 44.36,\n",
       " 44.91,\n",
       " 44.9,\n",
       " 45.1,\n",
       " 44.94,\n",
       " 44.75,\n",
       " 45.15,\n",
       " 44.46,\n",
       " 44.63,\n",
       " 44.49,\n",
       " 45.04,\n",
       " 45.23,\n",
       " 44.94,\n",
       " 44.7,\n",
       " 45.29,\n",
       " 44.83,\n",
       " 44.67,\n",
       " 43.89,\n",
       " 44.08,\n",
       " 44.51,\n",
       " 44.25,\n",
       " 44.15,\n",
       " 44.44,\n",
       " 44.74,\n",
       " 45.06,\n",
       " 45.0,\n",
       " 45.11,\n",
       " 45.41,\n",
       " 46.39,\n",
       " 46.91,\n",
       " 46.79,\n",
       " 46.75,\n",
       " 46.53,\n",
       " 46.27,\n",
       " 46.25,\n",
       " 45.66,\n",
       " 45.21,\n",
       " 46.05,\n",
       " 46.03,\n",
       " 45.89,\n",
       " 46.55,\n",
       " 46.27,\n",
       " 47.01,\n",
       " 46.21,\n",
       " 46.72,\n",
       " 45.89,\n",
       " 45.22,\n",
       " 45.05,\n",
       " 45.24,\n",
       " 44.71,\n",
       " 44.29,\n",
       " 43.92,\n",
       " 43.55,\n",
       " 43.44,\n",
       " 43.74,\n",
       " 43.29,\n",
       " 44.01,\n",
       " 44.56,\n",
       " 44.31,\n",
       " 44.16,\n",
       " 43.25,\n",
       " 42.53,\n",
       " 41.82,\n",
       " 42.04,\n",
       " 42.38,\n",
       " 41.71,\n",
       " 41.78,\n",
       " 41.76,\n",
       " 41.655,\n",
       " 41.66,\n",
       " 41.51,\n",
       " 41.4,\n",
       " 41.66,\n",
       " 41.23,\n",
       " 41.01,\n",
       " 41.52,\n",
       " 41.94,\n",
       " 41.54,\n",
       " 41.985,\n",
       " 41.985,\n",
       " 41.99,\n",
       " 41.84,\n",
       " 41.53,\n",
       " 41.31,\n",
       " 40.84,\n",
       " 40.83,\n",
       " 40.79,\n",
       " 39.48,\n",
       " 39.54,\n",
       " 39.42,\n",
       " 39.42,\n",
       " 39.05,\n",
       " 38.79,\n",
       " 38.53,\n",
       " 38.6,\n",
       " 38.63,\n",
       " 37.53,\n",
       " 40.97,\n",
       " 41.26,\n",
       " 41.16,\n",
       " 41.09,\n",
       " 40.91,\n",
       " 41.2,\n",
       " 41.08,\n",
       " 41.16,\n",
       " 41.16,\n",
       " 40.95,\n",
       " 41.25,\n",
       " 40.81,\n",
       " 40.84,\n",
       " 40.76,\n",
       " 40.9,\n",
       " 40.38,\n",
       " 39.75,\n",
       " 38.91,\n",
       " 39.38,\n",
       " 39.27,\n",
       " 38.85,\n",
       " 38.81,\n",
       " 38.48,\n",
       " 38.25,\n",
       " 38.4,\n",
       " 38.0,\n",
       " 37.35,\n",
       " 36.57,\n",
       " 35.77,\n",
       " 35.84,\n",
       " 35.36,\n",
       " 35.6,\n",
       " 35.73,\n",
       " 35.7,\n",
       " 34.75,\n",
       " 34.56,\n",
       " 34.95,\n",
       " 34.81,\n",
       " 34.8,\n",
       " 34.03,\n",
       " 33.85,\n",
       " 33.62,\n",
       " 34.05,\n",
       " 34.42,\n",
       " 34.8,\n",
       " 34.79,\n",
       " 34.56,\n",
       " 34.6,\n",
       " 34.31,\n",
       " 34.84,\n",
       " 34.46,\n",
       " 34.43,\n",
       " 34.91,\n",
       " 34.73,\n",
       " 34.75,\n",
       " 35.34,\n",
       " 34.99)"
      ]
     },
     "execution_count": 751,
     "metadata": {},
     "output_type": "execute_result"
    }
   ],
   "source": [
    "list(zip(*json_list))[3]"
   ]
  },
  {
   "cell_type": "code",
   "execution_count": 752,
   "metadata": {},
   "outputs": [],
   "source": [
    "json_low = list(zip(*json_list))[3]"
   ]
  },
  {
   "cell_type": "code",
   "execution_count": 753,
   "metadata": {},
   "outputs": [],
   "source": [
    "high_low = zip(json_high, json_low)"
   ]
  },
  {
   "cell_type": "code",
   "execution_count": 754,
   "metadata": {},
   "outputs": [],
   "source": [
    "largest_change=[]\n",
    "for high, low in high_low:\n",
    "    largest_change.append(round(high-low,2))"
   ]
  },
  {
   "cell_type": "code",
   "execution_count": 755,
   "metadata": {},
   "outputs": [
    {
     "data": {
      "text/plain": [
       "[0.49,\n",
       " 0.39,\n",
       " 1.13,\n",
       " 0.58,\n",
       " 0.62,\n",
       " 0.84,\n",
       " 1.66,\n",
       " 1.14,\n",
       " 1.06,\n",
       " 1.39,\n",
       " 0.87,\n",
       " 1.28,\n",
       " 1.19,\n",
       " 1.55,\n",
       " 0.66,\n",
       " 0.72,\n",
       " 0.98,\n",
       " 1.73,\n",
       " 1.32,\n",
       " 1.56,\n",
       " 0.94,\n",
       " 0.86,\n",
       " 0.77,\n",
       " 0.54,\n",
       " 1.01,\n",
       " 1.22,\n",
       " 1.81,\n",
       " 0.84,\n",
       " 0.35,\n",
       " 0.68,\n",
       " 1.26,\n",
       " 1.06,\n",
       " 0.85,\n",
       " 1.73,\n",
       " 0.97,\n",
       " 1.3,\n",
       " 0.49,\n",
       " 0.33,\n",
       " 1.21,\n",
       " 0.88,\n",
       " 0.58,\n",
       " 1.04,\n",
       " 0.96,\n",
       " 0.5,\n",
       " 0.36,\n",
       " 0.52,\n",
       " 0.45,\n",
       " 0.58,\n",
       " 1.06,\n",
       " 0.59,\n",
       " 0.69,\n",
       " 0.45,\n",
       " 0.33,\n",
       " 0.41,\n",
       " 0.72,\n",
       " 0.47,\n",
       " 0.6,\n",
       " 0.5,\n",
       " 0.46,\n",
       " 0.95,\n",
       " 0.8,\n",
       " 0.87,\n",
       " 1.56,\n",
       " 0.71,\n",
       " 0.46,\n",
       " 0.34,\n",
       " 0.9,\n",
       " 0.9,\n",
       " 0.55,\n",
       " 0.52,\n",
       " 0.4,\n",
       " 0.56,\n",
       " 0.45,\n",
       " 0.47,\n",
       " 0.72,\n",
       " 0.33,\n",
       " 0.19,\n",
       " 0.35,\n",
       " 0.37,\n",
       " 0.64,\n",
       " 0.8,\n",
       " 0.99,\n",
       " 0.96,\n",
       " 0.71,\n",
       " 0.65,\n",
       " 0.39,\n",
       " 0.59,\n",
       " 0.42,\n",
       " 0.57,\n",
       " 0.56,\n",
       " 0.56,\n",
       " 0.59,\n",
       " 1.25,\n",
       " 0.64,\n",
       " 0.33,\n",
       " 0.68,\n",
       " 0.98,\n",
       " 0.85,\n",
       " 1.86,\n",
       " 0.94,\n",
       " 2.32,\n",
       " 0.77,\n",
       " 0.63,\n",
       " 0.87,\n",
       " 0.44,\n",
       " 0.81,\n",
       " 0.54,\n",
       " 0.3,\n",
       " 0.87,\n",
       " 0.41,\n",
       " 0.82,\n",
       " 0.84,\n",
       " 0.73,\n",
       " 0.78,\n",
       " 0.85,\n",
       " 0.94,\n",
       " 0.73,\n",
       " 0.51,\n",
       " 1.16,\n",
       " 0.86,\n",
       " 0.67,\n",
       " 0.54,\n",
       " 1.35,\n",
       " 0.92,\n",
       " 1.09,\n",
       " 0.77,\n",
       " 0.74,\n",
       " 0.7,\n",
       " 1.27,\n",
       " 0.94,\n",
       " 0.72,\n",
       " 0.61,\n",
       " 0.65,\n",
       " 0.95,\n",
       " 1.16,\n",
       " 0.65,\n",
       " 1.14,\n",
       " 1.13,\n",
       " 0.81,\n",
       " 0.48,\n",
       " 1.54,\n",
       " 0.89,\n",
       " 1.53,\n",
       " 0.42,\n",
       " 1.24,\n",
       " 0.27,\n",
       " 0.63,\n",
       " 1.04,\n",
       " 0.97,\n",
       " 0.37,\n",
       " 0.65,\n",
       " 0.58,\n",
       " 0.75,\n",
       " 0.58,\n",
       " 0.78,\n",
       " 0.38,\n",
       " 1.01,\n",
       " 1.33,\n",
       " 0.8,\n",
       " 1.47,\n",
       " 1.02,\n",
       " 2.81,\n",
       " 1.07,\n",
       " 1.73,\n",
       " 0.96,\n",
       " 0.53,\n",
       " 0.79,\n",
       " 0.51,\n",
       " 0.47,\n",
       " 0.59,\n",
       " 0.59,\n",
       " 0.73,\n",
       " 0.54,\n",
       " 0.52,\n",
       " 0.79,\n",
       " 1.13,\n",
       " 1.12,\n",
       " 0.67,\n",
       " 0.86,\n",
       " 0.49,\n",
       " 0.49,\n",
       " 0.49,\n",
       " 0.61,\n",
       " 0.5,\n",
       " 0.37,\n",
       " 0.58,\n",
       " 0.42,\n",
       " 0.55,\n",
       " 1.4,\n",
       " 0.61,\n",
       " 0.65,\n",
       " 0.72,\n",
       " 0.96,\n",
       " 0.56,\n",
       " 0.57,\n",
       " 0.42,\n",
       " 0.62,\n",
       " 1.49,\n",
       " 0.86,\n",
       " 0.91,\n",
       " 0.43,\n",
       " 0.48,\n",
       " 0.59,\n",
       " 0.3,\n",
       " 0.38,\n",
       " 0.37,\n",
       " 0.45,\n",
       " 0.76,\n",
       " 0.55,\n",
       " 0.59,\n",
       " 0.38,\n",
       " 0.63,\n",
       " 0.67,\n",
       " 0.57,\n",
       " 0.89,\n",
       " 1.23,\n",
       " 0.6,\n",
       " 0.48,\n",
       " 0.72,\n",
       " 0.44,\n",
       " 0.55,\n",
       " 0.95,\n",
       " 0.53,\n",
       " 0.86,\n",
       " 2.01,\n",
       " 0.93,\n",
       " 0.48,\n",
       " 0.3,\n",
       " 0.69,\n",
       " 0.55,\n",
       " 0.47,\n",
       " 0.5,\n",
       " 1.25,\n",
       " 0.68,\n",
       " 0.64,\n",
       " 0.62,\n",
       " 0.78,\n",
       " 0.83,\n",
       " 0.5,\n",
       " 0.5,\n",
       " 0.54,\n",
       " 0.62,\n",
       " 0.71,\n",
       " 0.4,\n",
       " 0.68,\n",
       " 0.38,\n",
       " 1.07,\n",
       " 1.16,\n",
       " 0.52,\n",
       " 0.92,\n",
       " 0.3,\n",
       " 0.47,\n",
       " 0.76,\n",
       " 0.59,\n",
       " 0.95]"
      ]
     },
     "execution_count": 755,
     "metadata": {},
     "output_type": "execute_result"
    }
   ],
   "source": [
    "largest_change"
   ]
  },
  {
   "cell_type": "code",
   "execution_count": 756,
   "metadata": {},
   "outputs": [
    {
     "data": {
      "text/plain": [
       "2.81"
      ]
     },
     "execution_count": 756,
     "metadata": {},
     "output_type": "execute_result"
    }
   ],
   "source": [
    "max(largest_change)"
   ]
  },
  {
   "cell_type": "markdown",
   "metadata": {},
   "source": [
    "# 5. What was the largest change between any two days (based on Closing Price)?"
   ]
  },
  {
   "cell_type": "code",
   "execution_count": 757,
   "metadata": {},
   "outputs": [],
   "source": [
    "json_close = list(zip(*json_list))[4]"
   ]
  },
  {
   "cell_type": "code",
   "execution_count": 758,
   "metadata": {},
   "outputs": [
    {
     "data": {
      "text/plain": [
       "19.03"
      ]
     },
     "execution_count": 758,
     "metadata": {},
     "output_type": "execute_result"
    }
   ],
   "source": [
    "max(json_close) - min(json_close)"
   ]
  },
  {
   "cell_type": "markdown",
   "metadata": {},
   "source": [
    "# 6. What was the average daily trading volume during this year?"
   ]
  },
  {
   "cell_type": "code",
   "execution_count": 759,
   "metadata": {},
   "outputs": [],
   "source": [
    "json_vol = list(zip(*json_list))[6]"
   ]
  },
  {
   "cell_type": "code",
   "execution_count": 760,
   "metadata": {},
   "outputs": [
    {
     "data": {
      "text/plain": [
       "89124.3"
      ]
     },
     "execution_count": 760,
     "metadata": {},
     "output_type": "execute_result"
    }
   ],
   "source": [
    "round(sum(json_vol)/len(json_vol),1)"
   ]
  },
  {
   "cell_type": "markdown",
   "metadata": {},
   "source": [
    "# 7. (Optional) What was the median trading volume during this year. (Note: you may need to implement your own function for calculating the median.)"
   ]
  },
  {
   "cell_type": "code",
   "execution_count": 761,
   "metadata": {},
   "outputs": [],
   "source": [
    "json_vol = sorted(json_vol)"
   ]
  },
  {
   "cell_type": "code",
   "execution_count": 762,
   "metadata": {},
   "outputs": [],
   "source": [
    "def median(l):\n",
    "    if len(l) % 2 != 0:\n",
    "        middle_index = round(len(l)/2)\n",
    "        print(l[middle_index])\n",
    "    else:\n",
    "        mid1 = round(len(l)/2)\n",
    "        mid2 = mid1 - 1\n",
    "        print((l[mid1] + l[mid2]) / 2)"
   ]
  },
  {
   "cell_type": "code",
   "execution_count": 763,
   "metadata": {},
   "outputs": [
    {
     "name": "stdout",
     "output_type": "stream",
     "text": [
      "76600.0\n"
     ]
    }
   ],
   "source": [
    "median(json_vol)"
   ]
  }
 ],
 "metadata": {
  "kernelspec": {
   "display_name": "Python 3",
   "language": "python",
   "name": "python3"
  },
  "language_info": {
   "codemirror_mode": {
    "name": "ipython",
    "version": 3
   },
   "file_extension": ".py",
   "mimetype": "text/x-python",
   "name": "python",
   "nbconvert_exporter": "python",
   "pygments_lexer": "ipython3",
   "version": "3.7.0"
  }
 },
 "nbformat": 4,
 "nbformat_minor": 2
}
